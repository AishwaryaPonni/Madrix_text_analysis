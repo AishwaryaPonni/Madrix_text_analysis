{
  "nbformat": 4,
  "nbformat_minor": 0,
  "metadata": {
    "colab": {
      "name": "tamil_sentence_emotion_recognition.ipynb",
      "provenance": [],
      "authorship_tag": "ABX9TyPJBwuCAHk/ySovDemCM+Mb",
      "include_colab_link": true
    },
    "kernelspec": {
      "name": "python3",
      "display_name": "Python 3"
    },
    "language_info": {
      "name": "python"
    },
    "accelerator": "GPU"
  },
  "cells": [
    {
      "cell_type": "markdown",
      "metadata": {
        "id": "view-in-github",
        "colab_type": "text"
      },
      "source": [
        "<a href=\"https://colab.research.google.com/github/AishwaryaPonni/Madrix_text_analysis/blob/main/tamil_sentence_emotion_recognition.ipynb\" target=\"_parent\"><img src=\"https://colab.research.google.com/assets/colab-badge.svg\" alt=\"Open In Colab\"/></a>"
      ]
    },
    {
      "cell_type": "markdown",
      "metadata": {
        "id": "ncHppbkzwAPq"
      },
      "source": [
        ""
      ]
    },
    {
      "cell_type": "code",
      "metadata": {
        "colab": {
          "base_uri": "https://localhost:8080/"
        },
        "id": "F94yOBr_wKQp",
        "outputId": "0e14ff1d-8906-4c9e-e62b-096265a6ca62"
      },
      "source": [
        "from google.colab import drive\n",
        "drive.mount('/content/drive')"
      ],
      "execution_count": null,
      "outputs": [
        {
          "output_type": "stream",
          "text": [
            "Mounted at /content/drive\n"
          ],
          "name": "stdout"
        }
      ]
    },
    {
      "cell_type": "code",
      "metadata": {
        "id": "g9PIN8KDvwfN"
      },
      "source": [
        "import pandas as pd\n",
        "import numpy as np\n",
        "import tensorflow as tf\n",
        "#for stopwords removal\n",
        "import nltk\n",
        "from nltk.corpus import stopwords \n",
        "#for regularising the input sequence\n",
        "from keras.preprocessing.text import Tokenizer\n",
        "from keras.preprocessing.sequence import pad_sequences\n",
        "from keras import regularizers\n",
        "#for train-test split\n",
        "from sklearn.model_selection import train_test_split\n",
        "#for model building and testing\n",
        "from keras.models import Sequential\n",
        "from keras import layers\n",
        "from keras import regularizers\n",
        "from keras import backend as K\n",
        "from keras.callbacks import ModelCheckpoint"
      ],
      "execution_count": null,
      "outputs": []
    },
    {
      "cell_type": "code",
      "metadata": {
        "id": "UcG6QUMJwawT"
      },
      "source": [
        "df = pd.read_csv('/content/drive/MyDrive/IETE text analysis /Emotion tamil dataset.csv')"
      ],
      "execution_count": null,
      "outputs": []
    },
    {
      "cell_type": "code",
      "metadata": {
        "colab": {
          "base_uri": "https://localhost:8080/"
        },
        "id": "rNyL9CzhxPd3",
        "outputId": "86d03cb2-cac2-4a55-ce6e-52298c2f5e5f"
      },
      "source": [
        "df['Emotion'].value_counts()"
      ],
      "execution_count": null,
      "outputs": [
        {
          "output_type": "execute_result",
          "data": {
            "text/plain": [
              "sad         468\n",
              "anger       284\n",
              "fear        279\n",
              "happy       268\n",
              "surprise    160\n",
              "shame        78\n",
              "disgust      57\n",
              "Name: Emotion, dtype: int64"
            ]
          },
          "metadata": {
            "tags": []
          },
          "execution_count": 9
        }
      ]
    },
    {
      "cell_type": "code",
      "metadata": {
        "id": "d-H9uk2RzJI1"
      },
      "source": [
        "dataset= df"
      ],
      "execution_count": null,
      "outputs": []
    },
    {
      "cell_type": "code",
      "metadata": {
        "id": "aI0SFR7dxlzv"
      },
      "source": [
        "new_df=pd.DataFrame()"
      ],
      "execution_count": null,
      "outputs": []
    },
    {
      "cell_type": "code",
      "metadata": {
        "colab": {
          "base_uri": "https://localhost:8080/",
          "height": 31
        },
        "id": "DeVH3GAb1StS",
        "outputId": "11d1f333-b6a1-442a-8fb8-371350fe47ca"
      },
      "source": [
        "new_df"
      ],
      "execution_count": null,
      "outputs": [
        {
          "output_type": "execute_result",
          "data": {
            "text/html": [
              "<div>\n",
              "<style scoped>\n",
              "    .dataframe tbody tr th:only-of-type {\n",
              "        vertical-align: middle;\n",
              "    }\n",
              "\n",
              "    .dataframe tbody tr th {\n",
              "        vertical-align: top;\n",
              "    }\n",
              "\n",
              "    .dataframe thead th {\n",
              "        text-align: right;\n",
              "    }\n",
              "</style>\n",
              "<table border=\"1\" class=\"dataframe\">\n",
              "  <thead>\n",
              "    <tr style=\"text-align: right;\">\n",
              "      <th></th>\n",
              "    </tr>\n",
              "  </thead>\n",
              "  <tbody>\n",
              "  </tbody>\n",
              "</table>\n",
              "</div>"
            ],
            "text/plain": [
              "Empty DataFrame\n",
              "Columns: []\n",
              "Index: []"
            ]
          },
          "metadata": {
            "tags": []
          },
          "execution_count": 25
        }
      ]
    },
    {
      "cell_type": "code",
      "metadata": {
        "id": "J_JVw-izyBFa"
      },
      "source": [
        "sad = dataset[dataset['Emotion'] == 'sad'][:265]\n",
        "anger = dataset[dataset['Emotion'] == 'anger'][:265]\n",
        "fear = dataset[dataset['Emotion'] == 'fear'][:265]\n",
        "happy = dataset[dataset['Emotion'] == 'happy'][:265]"
      ],
      "execution_count": null,
      "outputs": []
    },
    {
      "cell_type": "code",
      "metadata": {
        "colab": {
          "base_uri": "https://localhost:8080/"
        },
        "id": "TVHkjOCjztLs",
        "outputId": "1392e56a-63af-4fe5-b4ce-14ddc7086ddc"
      },
      "source": [
        "d = {'Sentence' : np.array(happy)[:265,2], 'Emotion' : np.array(happy)[:265,3]}\n",
        "happy = pd.DataFrame(d)\n",
        "new_df=new_df.append(happy, ignore_index = True)\n",
        "new_df['Emotion'].value_counts()"
      ],
      "execution_count": null,
      "outputs": [
        {
          "output_type": "execute_result",
          "data": {
            "text/plain": [
              "anger    265\n",
              "fear     265\n",
              "happy    265\n",
              "sad      265\n",
              "Name: Emotion, dtype: int64"
            ]
          },
          "metadata": {
            "tags": []
          },
          "execution_count": 31
        }
      ]
    },
    {
      "cell_type": "code",
      "metadata": {
        "id": "4p6S1D4y0LMK"
      },
      "source": [
        "new_df.to_csv('/content/drive/MyDrive/IETE text analysis /Balanced_tamil_dataset.csv ')"
      ],
      "execution_count": null,
      "outputs": []
    },
    {
      "cell_type": "code",
      "metadata": {
        "id": "BYyyeIta2mND"
      },
      "source": [
        "dataset=pd.read_csv('/content/drive/MyDrive/IETE text analysis /Balanced_tamil_dataset.csv ')"
      ],
      "execution_count": null,
      "outputs": []
    },
    {
      "cell_type": "code",
      "metadata": {
        "colab": {
          "base_uri": "https://localhost:8080/",
          "height": 469
        },
        "id": "xtU47CLh30oe",
        "outputId": "f96ddaf8-d7bb-4742-9869-a129a4690b36"
      },
      "source": [
        "dataset"
      ],
      "execution_count": null,
      "outputs": [
        {
          "output_type": "execute_result",
          "data": {
            "text/html": [
              "<div>\n",
              "<style scoped>\n",
              "    .dataframe tbody tr th:only-of-type {\n",
              "        vertical-align: middle;\n",
              "    }\n",
              "\n",
              "    .dataframe tbody tr th {\n",
              "        vertical-align: top;\n",
              "    }\n",
              "\n",
              "    .dataframe thead th {\n",
              "        text-align: right;\n",
              "    }\n",
              "</style>\n",
              "<table border=\"1\" class=\"dataframe\">\n",
              "  <thead>\n",
              "    <tr style=\"text-align: right;\">\n",
              "      <th></th>\n",
              "      <th>Unnamed: 0</th>\n",
              "      <th>Sentence</th>\n",
              "      <th>Emotion</th>\n",
              "    </tr>\n",
              "  </thead>\n",
              "  <tbody>\n",
              "    <tr>\n",
              "      <th>0</th>\n",
              "      <td>0</td>\n",
              "      <td>ஒரு பெண், ஏற்கனவே ஒரு வேலை மற்றும் அவரது சொந்த...</td>\n",
              "      <td>sad</td>\n",
              "    </tr>\n",
              "    <tr>\n",
              "      <th>1</th>\n",
              "      <td>1</td>\n",
              "      <td>அவர் அதைப் பற்றி மிகவும் வருத்தமாக இருந்தார்.</td>\n",
              "      <td>sad</td>\n",
              "    </tr>\n",
              "    <tr>\n",
              "      <th>2</th>\n",
              "      <td>2</td>\n",
              "      <td>நான் முகாமிட்டேன், \"ஒரு சோகமான குழந்தையைப் போல...</td>\n",
              "      <td>sad</td>\n",
              "    </tr>\n",
              "    <tr>\n",
              "      <th>3</th>\n",
              "      <td>3</td>\n",
              "      <td>அவர் பொருட்டு பட்டியில் சென்றார் போது, எல்லி த...</td>\n",
              "      <td>sad</td>\n",
              "    </tr>\n",
              "    <tr>\n",
              "      <th>4</th>\n",
              "      <td>4</td>\n",
              "      <td>எழுத்தாளர் இப்போது நினைவு கூர்ந்தார் என்று நான...</td>\n",
              "      <td>sad</td>\n",
              "    </tr>\n",
              "    <tr>\n",
              "      <th>...</th>\n",
              "      <td>...</td>\n",
              "      <td>...</td>\n",
              "      <td>...</td>\n",
              "    </tr>\n",
              "    <tr>\n",
              "      <th>1055</th>\n",
              "      <td>1055</td>\n",
              "      <td>இளவயது ஹீரோக்களின் இந்த புதிய மூவரும், அதன் மூ...</td>\n",
              "      <td>happy</td>\n",
              "    </tr>\n",
              "    <tr>\n",
              "      <th>1056</th>\n",
              "      <td>1056</td>\n",
              "      <td>டேபிள் YMor இன் மற்ற முடிவில் இருந்து லேசான கே...</td>\n",
              "      <td>happy</td>\n",
              "    </tr>\n",
              "    <tr>\n",
              "      <th>1057</th>\n",
              "      <td>1057</td>\n",
              "      <td>நான் யாரையும் ஏமாற்ற வெறுக்கிறேன் ஆனால் அது வழ...</td>\n",
              "      <td>happy</td>\n",
              "    </tr>\n",
              "    <tr>\n",
              "      <th>1058</th>\n",
              "      <td>1058</td>\n",
              "      <td>அவர் ஒரு குறுகிய கூர்மையான பட்டை என்று, ரோஸி ஜ...</td>\n",
              "      <td>happy</td>\n",
              "    </tr>\n",
              "    <tr>\n",
              "      <th>1059</th>\n",
              "      <td>1059</td>\n",
              "      <td>அவர் இந்த சிந்தனையுடன் கருதினார், பின்னர் ஒரு ...</td>\n",
              "      <td>happy</td>\n",
              "    </tr>\n",
              "  </tbody>\n",
              "</table>\n",
              "<p>1060 rows × 3 columns</p>\n",
              "</div>"
            ],
            "text/plain": [
              "      Unnamed: 0                                           Sentence Emotion\n",
              "0              0  ஒரு பெண், ஏற்கனவே ஒரு வேலை மற்றும் அவரது சொந்த...     sad\n",
              "1              1     அவர் அதைப் பற்றி மிகவும் வருத்தமாக இருந்தார்.      sad\n",
              "2              2  நான் முகாமிட்டேன், \"ஒரு சோகமான குழந்தையைப் போல...     sad\n",
              "3              3  அவர் பொருட்டு பட்டியில் சென்றார் போது, எல்லி த...     sad\n",
              "4              4  எழுத்தாளர் இப்போது நினைவு கூர்ந்தார் என்று நான...     sad\n",
              "...          ...                                                ...     ...\n",
              "1055        1055  இளவயது ஹீரோக்களின் இந்த புதிய மூவரும், அதன் மூ...   happy\n",
              "1056        1056  டேபிள் YMor இன் மற்ற முடிவில் இருந்து லேசான கே...   happy\n",
              "1057        1057  நான் யாரையும் ஏமாற்ற வெறுக்கிறேன் ஆனால் அது வழ...   happy\n",
              "1058        1058  அவர் ஒரு குறுகிய கூர்மையான பட்டை என்று, ரோஸி ஜ...   happy\n",
              "1059        1059  அவர் இந்த சிந்தனையுடன் கருதினார், பின்னர் ஒரு ...   happy\n",
              "\n",
              "[1060 rows x 3 columns]"
            ]
          },
          "metadata": {
            "tags": []
          },
          "execution_count": 37
        }
      ]
    },
    {
      "cell_type": "code",
      "metadata": {
        "colab": {
          "base_uri": "https://localhost:8080/"
        },
        "id": "aRp8ZvZS4CL_",
        "outputId": "9bd9bfce-d9b4-4da3-e639-45c1aad17d7a"
      },
      "source": [
        "dataset['Emotion'].value_counts()"
      ],
      "execution_count": null,
      "outputs": [
        {
          "output_type": "execute_result",
          "data": {
            "text/plain": [
              "anger    265\n",
              "fear     265\n",
              "happy    265\n",
              "sad      265\n",
              "Name: Emotion, dtype: int64"
            ]
          },
          "metadata": {
            "tags": []
          },
          "execution_count": 38
        }
      ]
    },
    {
      "cell_type": "code",
      "metadata": {
        "colab": {
          "base_uri": "https://localhost:8080/"
        },
        "id": "72a7osaJ4Mkx",
        "outputId": "08e43ccd-aa86-43d4-c428-181466bc47e2"
      },
      "source": [
        "max_words = 5000\n",
        "data = dataset.Sentence\n",
        "tokenizer = Tokenizer(num_words=max_words)\n",
        "tokenizer.fit_on_texts(data)\n",
        "sequences = tokenizer.texts_to_sequences(data)\n",
        "sentences = pad_sequences(sequences)\n",
        "print(sentences.shape)"
      ],
      "execution_count": null,
      "outputs": [
        {
          "output_type": "stream",
          "text": [
            "(1060, 32)\n"
          ],
          "name": "stdout"
        }
      ]
    },
    {
      "cell_type": "code",
      "metadata": {
        "id": "viXs-0rh4QeI"
      },
      "source": [
        "labels = np.array(dataset['Emotion'])\n",
        "y = []\n",
        "for i in range(len(labels)):\n",
        "    if labels[i] == 'sad':\n",
        "        y.append(0)\n",
        "    if labels[i] == 'anger':\n",
        "        y.append(1)\n",
        "    if labels[i] == 'fear':\n",
        "        y.append(2)\n",
        "    if labels[i] == 'happy':\n",
        "        y.append(3)\n",
        "y = np.array(y)\n",
        "labels = tf.keras.utils.to_categorical(y, 4, dtype=\"float32\")"
      ],
      "execution_count": null,
      "outputs": []
    },
    {
      "cell_type": "code",
      "metadata": {
        "colab": {
          "base_uri": "https://localhost:8080/"
        },
        "id": "vBrHBrbX4lho",
        "outputId": "7df4a2ef-be83-4857-efe1-e56174f3e763"
      },
      "source": [
        "labels.shape"
      ],
      "execution_count": null,
      "outputs": [
        {
          "output_type": "execute_result",
          "data": {
            "text/plain": [
              "(1060, 4)"
            ]
          },
          "metadata": {
            "tags": []
          },
          "execution_count": 42
        }
      ]
    },
    {
      "cell_type": "code",
      "metadata": {
        "id": "S0OfKrtq6Mzp"
      },
      "source": [
        "X_train, X_test, y_train, y_test = train_test_split(sentences,\n",
        "                                                    labels,\n",
        "                                                    test_size=0.15,\n",
        "                                                    random_state=42)"
      ],
      "execution_count": null,
      "outputs": []
    },
    {
      "cell_type": "code",
      "metadata": {
        "colab": {
          "base_uri": "https://localhost:8080/"
        },
        "id": "q9kF6McS6Tpx",
        "outputId": "1e9b3df8-bcbd-4ab8-c4a6-e3ed82baa405"
      },
      "source": [
        "X_test[0]"
      ],
      "execution_count": null,
      "outputs": [
        {
          "output_type": "execute_result",
          "data": {
            "text/plain": [
              "array([   0,    0,    0,    0,    0,    0,    0,    0,    0,    0,    0,\n",
              "          0,    0,    0,    0,    0,    0,    0,    0,    0,    0,    3,\n",
              "        195,   42,  451,  336,  659,  621,  991,  803,   31, 4625],\n",
              "      dtype=int32)"
            ]
          },
          "metadata": {
            "tags": []
          },
          "execution_count": 44
        }
      ]
    },
    {
      "cell_type": "code",
      "metadata": {
        "colab": {
          "base_uri": "https://localhost:8080/"
        },
        "id": "a20mIs036WKU",
        "outputId": "32d5da23-12ed-4940-a137-6a85ecff7141"
      },
      "source": [
        "print (len(X_train),len(X_test),len(y_train),len(y_test))"
      ],
      "execution_count": null,
      "outputs": [
        {
          "output_type": "stream",
          "text": [
            "901 159 901 159\n"
          ],
          "name": "stdout"
        }
      ]
    },
    {
      "cell_type": "code",
      "metadata": {
        "colab": {
          "base_uri": "https://localhost:8080/"
        },
        "id": "EVxyt8SZ6ZTP",
        "outputId": "e9f82b28-d33f-4d44-d163-b2b73e42068b"
      },
      "source": [
        "model1 = Sequential()\n",
        "model1.add(layers.Embedding(max_words, 20)) #The embedding layer\n",
        "model1.add(layers.LSTM(15,dropout=0.5)) #Our LSTM layer\n",
        "model1.add(layers.Dense(4,activation='softmax'))\n",
        "\n",
        "\n",
        "model1.compile(optimizer='rmsprop',loss='categorical_crossentropy', metrics=['accuracy'])\n",
        "\n",
        "# checkpoint1 = ModelCheckpoint(\"best_model1.hdf5\", monitor='val_accuracy', verbose=1,save_best_only=True, mode='max', save_freq=1,save_weights_only=False)\n",
        "history = model1.fit(X_train, y_train, epochs=15,validation_data=(X_test, y_test)) #,callbacks=[checkpoint1])"
      ],
      "execution_count": null,
      "outputs": [
        {
          "output_type": "stream",
          "text": [
            "Epoch 1/15\n",
            "29/29 [==============================] - 2s 19ms/step - loss: 1.3866 - accuracy: 0.2651 - val_loss: 1.3842 - val_accuracy: 0.3333\n",
            "Epoch 2/15\n",
            "29/29 [==============================] - 0s 7ms/step - loss: 1.3825 - accuracy: 0.3214 - val_loss: 1.3836 - val_accuracy: 0.3082\n",
            "Epoch 3/15\n",
            "29/29 [==============================] - 0s 7ms/step - loss: 1.3755 - accuracy: 0.4261 - val_loss: 1.3789 - val_accuracy: 0.3585\n",
            "Epoch 4/15\n",
            "29/29 [==============================] - 0s 6ms/step - loss: 1.3593 - accuracy: 0.4317 - val_loss: 1.3801 - val_accuracy: 0.2642\n",
            "Epoch 5/15\n",
            "29/29 [==============================] - 0s 7ms/step - loss: 1.3319 - accuracy: 0.4805 - val_loss: 1.3665 - val_accuracy: 0.3522\n",
            "Epoch 6/15\n",
            "29/29 [==============================] - 0s 7ms/step - loss: 1.2961 - accuracy: 0.5038 - val_loss: 1.3547 - val_accuracy: 0.3333\n",
            "Epoch 7/15\n",
            "29/29 [==============================] - 0s 7ms/step - loss: 1.2345 - accuracy: 0.5223 - val_loss: 1.3453 - val_accuracy: 0.3396\n",
            "Epoch 8/15\n",
            "29/29 [==============================] - 0s 7ms/step - loss: 1.1695 - accuracy: 0.6096 - val_loss: 1.3424 - val_accuracy: 0.3333\n",
            "Epoch 9/15\n",
            "29/29 [==============================] - 0s 7ms/step - loss: 1.0935 - accuracy: 0.6339 - val_loss: 1.3286 - val_accuracy: 0.3899\n",
            "Epoch 10/15\n",
            "29/29 [==============================] - 0s 7ms/step - loss: 1.0155 - accuracy: 0.6605 - val_loss: 1.3103 - val_accuracy: 0.3774\n",
            "Epoch 11/15\n",
            "29/29 [==============================] - 0s 7ms/step - loss: 0.9434 - accuracy: 0.6941 - val_loss: 1.3135 - val_accuracy: 0.3774\n",
            "Epoch 12/15\n",
            "29/29 [==============================] - 0s 7ms/step - loss: 0.8629 - accuracy: 0.7164 - val_loss: 1.5291 - val_accuracy: 0.3270\n",
            "Epoch 13/15\n",
            "29/29 [==============================] - 0s 7ms/step - loss: 0.7533 - accuracy: 0.7792 - val_loss: 1.3460 - val_accuracy: 0.3836\n",
            "Epoch 14/15\n",
            "29/29 [==============================] - 0s 7ms/step - loss: 0.6522 - accuracy: 0.8098 - val_loss: 1.2647 - val_accuracy: 0.4465\n",
            "Epoch 15/15\n",
            "29/29 [==============================] - 0s 7ms/step - loss: 0.5612 - accuracy: 0.8535 - val_loss: 1.3709 - val_accuracy: 0.3585\n"
          ],
          "name": "stdout"
        }
      ]
    },
    {
      "cell_type": "code",
      "metadata": {
        "id": "yPlY9AC16hYu"
      },
      "source": [
        "def prediction(text):\n",
        "  emotion = ['sad','anger','fear','happy']\n",
        "  # l = list(text)\n",
        "  sequences = tokenizer.texts_to_sequences([text])\n",
        "  test = pad_sequences(sequences)\n",
        "  return emotion[np.around(model1.predict(test), decimals=0).argmax(axis=1)[0]]"
      ],
      "execution_count": null,
      "outputs": []
    },
    {
      "cell_type": "code",
      "metadata": {
        "colab": {
          "base_uri": "https://localhost:8080/",
          "height": 35
        },
        "id": "PsjjqjBk7Cbc",
        "outputId": "3ed66052-3bfe-4a23-e63d-08d228c8e13b"
      },
      "source": [
        "prediction('ஒரு நாள் யாரும் அவரது டிரெய்லரில் இருந்து அவரை எழுப்ப முடியாது போது, அது லீ மோவின் அமைதியாக உள்ளிட்டு ஒரு sombre, தனியாக, சோகமான மனிதன் கண்டுபிடிக்கப்பட்டது. ')"
      ],
      "execution_count": null,
      "outputs": [
        {
          "output_type": "execute_result",
          "data": {
            "application/vnd.google.colaboratory.intrinsic+json": {
              "type": "string"
            },
            "text/plain": [
              "'sad'"
            ]
          },
          "metadata": {
            "tags": []
          },
          "execution_count": 60
        }
      ]
    },
    {
      "cell_type": "code",
      "metadata": {
        "colab": {
          "base_uri": "https://localhost:8080/",
          "height": 35
        },
        "id": "TCJd5I6e7PYD",
        "outputId": "e5b24436-f798-4658-e18f-5af6df54a4c6"
      },
      "source": [
        "prediction('ஆப்பிள்கள் போன்ற அன்றாட உணவுகள் ஒரு கட்டமைப்பை ஏற்படுத்தும் என்று கண்டறியும் போது தாய்மார்கள் கோபப்படுகிறார்கள் ஏன் என்று நீங்கள் காணலாம் ')"
      ],
      "execution_count": null,
      "outputs": [
        {
          "output_type": "execute_result",
          "data": {
            "application/vnd.google.colaboratory.intrinsic+json": {
              "type": "string"
            },
            "text/plain": [
              "'sad'"
            ]
          },
          "metadata": {
            "tags": []
          },
          "execution_count": 61
        }
      ]
    },
    {
      "cell_type": "code",
      "metadata": {
        "id": "Qh4IBiws9CUX"
      },
      "source": [
        ""
      ],
      "execution_count": null,
      "outputs": []
    }
  ]
}