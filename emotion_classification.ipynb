{
  "nbformat": 4,
  "nbformat_minor": 0,
  "metadata": {
    "colab": {
      "name": "emotion_classification.ipynb",
      "provenance": [],
      "collapsed_sections": [],
      "include_colab_link": true
    },
    "kernelspec": {
      "name": "python3",
      "display_name": "Python 3"
    },
    "language_info": {
      "name": "python"
    },
    "accelerator": "GPU"
  },
  "cells": [
    {
      "cell_type": "markdown",
      "metadata": {
        "id": "view-in-github",
        "colab_type": "text"
      },
      "source": [
        "<a href=\"https://colab.research.google.com/github/AishwaryaPonni/Madrix_text_analysis/blob/main/emotion_classification.ipynb\" target=\"_parent\"><img src=\"https://colab.research.google.com/assets/colab-badge.svg\" alt=\"Open In Colab\"/></a>"
      ]
    },
    {
      "cell_type": "markdown",
      "metadata": {
        "id": "SJ3X0pevjt6j"
      },
      "source": [
        "Mounting the drive"
      ]
    },
    {
      "cell_type": "code",
      "metadata": {
        "colab": {
          "base_uri": "https://localhost:8080/"
        },
        "id": "O4TxjB6p1nik",
        "outputId": "602a0275-d04b-491d-9d2b-7bcb8a9aeb89"
      },
      "source": [
        "from google.colab import drive\n",
        "drive.mount('/content/gdrive')"
      ],
      "execution_count": null,
      "outputs": [
        {
          "output_type": "stream",
          "text": [
            "Mounted at /content/gdrive\n"
          ],
          "name": "stdout"
        }
      ]
    },
    {
      "cell_type": "markdown",
      "metadata": {
        "id": "ev3xcBIOj0Rw"
      },
      "source": [
        "Loading the packages"
      ]
    },
    {
      "cell_type": "code",
      "metadata": {
        "id": "KMIfjF61jzn9"
      },
      "source": [
        "import pandas as pd\n",
        "import numpy as np\n",
        "import tensorflow as tf\n",
        "#for stopwords removal\n",
        "import nltk\n",
        "from nltk.corpus import stopwords \n",
        "#for regularising the input sequence\n",
        "from keras.preprocessing.text import Tokenizer\n",
        "from keras.preprocessing.sequence import pad_sequences\n",
        "from keras import regularizers\n",
        "#for train-test split\n",
        "from sklearn.model_selection import train_test_split\n",
        "#for model building and testing\n",
        "from keras.models import Sequential\n",
        "from keras import layers\n",
        "from keras import regularizers\n",
        "from keras import backend as K\n",
        "from keras.callbacks import ModelCheckpoint"
      ],
      "execution_count": null,
      "outputs": []
    },
    {
      "cell_type": "markdown",
      "metadata": {
        "id": "wNk9wecXmAuO"
      },
      "source": [
        "Reading and analysing the dataset"
      ]
    },
    {
      "cell_type": "code",
      "metadata": {
        "id": "Yh18nyh31wwm"
      },
      "source": [
        "df = pd.read_csv('/content/gdrive/MyDrive/IETE text analysis /Emotion Dataset.csv')"
      ],
      "execution_count": null,
      "outputs": []
    },
    {
      "cell_type": "code",
      "metadata": {
        "colab": {
          "base_uri": "https://localhost:8080/",
          "height": 195
        },
        "id": "d7jyuYtN3qr2",
        "outputId": "803fe1db-8a4d-482e-e0ec-7347a3e39fa8"
      },
      "source": [
        "df.head()"
      ],
      "execution_count": null,
      "outputs": [
        {
          "output_type": "execute_result",
          "data": {
            "text/html": [
              "<div>\n",
              "<style scoped>\n",
              "    .dataframe tbody tr th:only-of-type {\n",
              "        vertical-align: middle;\n",
              "    }\n",
              "\n",
              "    .dataframe tbody tr th {\n",
              "        vertical-align: top;\n",
              "    }\n",
              "\n",
              "    .dataframe thead th {\n",
              "        text-align: right;\n",
              "    }\n",
              "</style>\n",
              "<table border=\"1\" class=\"dataframe\">\n",
              "  <thead>\n",
              "    <tr style=\"text-align: right;\">\n",
              "      <th></th>\n",
              "      <th>Unnamed: 0</th>\n",
              "      <th>Sentence</th>\n",
              "      <th>Emotion</th>\n",
              "    </tr>\n",
              "  </thead>\n",
              "  <tbody>\n",
              "    <tr>\n",
              "      <th>0</th>\n",
              "      <td>0</td>\n",
              "      <td>This did the trick : the boys now have a more ...</td>\n",
              "      <td>happy</td>\n",
              "    </tr>\n",
              "    <tr>\n",
              "      <th>1</th>\n",
              "      <td>1</td>\n",
              "      <td>When Anna left Inspector Aziz , she was much h...</td>\n",
              "      <td>happy</td>\n",
              "    </tr>\n",
              "    <tr>\n",
              "      <th>2</th>\n",
              "      <td>2</td>\n",
              "      <td>And though , as Lachlan had planned , they had...</td>\n",
              "      <td>happy</td>\n",
              "    </tr>\n",
              "    <tr>\n",
              "      <th>3</th>\n",
              "      <td>3</td>\n",
              "      <td>Honestly , I 'm really happy for you</td>\n",
              "      <td>happy</td>\n",
              "    </tr>\n",
              "    <tr>\n",
              "      <th>4</th>\n",
              "      <td>4</td>\n",
              "      <td>Lesley was totally happy about it .</td>\n",
              "      <td>happy</td>\n",
              "    </tr>\n",
              "  </tbody>\n",
              "</table>\n",
              "</div>"
            ],
            "text/plain": [
              "   Unnamed: 0                                           Sentence Emotion\n",
              "0           0  This did the trick : the boys now have a more ...   happy\n",
              "1           1  When Anna left Inspector Aziz , she was much h...   happy\n",
              "2           2  And though , as Lachlan had planned , they had...   happy\n",
              "3           3              Honestly , I 'm really happy for you    happy\n",
              "4           4               Lesley was totally happy about it .    happy"
            ]
          },
          "metadata": {
            "tags": []
          },
          "execution_count": 12
        }
      ]
    },
    {
      "cell_type": "code",
      "metadata": {
        "colab": {
          "base_uri": "https://localhost:8080/"
        },
        "id": "M2Z1YtuX3tzL",
        "outputId": "6da4bedd-75d4-40e3-8bcf-6a20e6483101"
      },
      "source": [
        "df['Emotion'].value_counts()"
      ],
      "execution_count": null,
      "outputs": [
        {
          "output_type": "execute_result",
          "data": {
            "text/plain": [
              "sad         468\n",
              "anger       284\n",
              "fear        279\n",
              "happy       268\n",
              "surprise    160\n",
              "shame        78\n",
              "disgust      57\n",
              "Name: Emotion, dtype: int64"
            ]
          },
          "metadata": {
            "tags": []
          },
          "execution_count": 13
        }
      ]
    },
    {
      "cell_type": "code",
      "metadata": {
        "id": "9kafSAPt7yrN"
      },
      "source": [
        "df2 = pd.read_csv('/content/gdrive/MyDrive/IETE text analysis /dataset/full.csv')"
      ],
      "execution_count": null,
      "outputs": []
    },
    {
      "cell_type": "code",
      "metadata": {
        "colab": {
          "base_uri": "https://localhost:8080/"
        },
        "id": "nNH1COFt73RF",
        "outputId": "61b42a30-d522-4b90-ed94-96e949e00cdd"
      },
      "source": [
        "df2['Emotion'].value_counts()"
      ],
      "execution_count": null,
      "outputs": [
        {
          "output_type": "execute_result",
          "data": {
            "text/plain": [
              "joy         6761\n",
              "sadness     5797\n",
              "anger       2709\n",
              "fear        2373\n",
              "love        1641\n",
              "surprise     719\n",
              "Name: Emotion, dtype: int64"
            ]
          },
          "metadata": {
            "tags": []
          },
          "execution_count": 35
        }
      ]
    },
    {
      "cell_type": "markdown",
      "metadata": {
        "id": "7PeDkIipm840"
      },
      "source": [
        "Removing the stop words"
      ]
    },
    {
      "cell_type": "code",
      "metadata": {
        "colab": {
          "base_uri": "https://localhost:8080/"
        },
        "id": "67jbB_Ks77jD",
        "outputId": "635fc326-420e-4c97-8750-33ce37fa323c"
      },
      "source": [
        "nltk.download('stopwords')"
      ],
      "execution_count": null,
      "outputs": [
        {
          "output_type": "stream",
          "text": [
            "[nltk_data] Downloading package stopwords to /root/nltk_data...\n",
            "[nltk_data]   Package stopwords is already up-to-date!\n"
          ],
          "name": "stdout"
        },
        {
          "output_type": "execute_result",
          "data": {
            "text/plain": [
              "True"
            ]
          },
          "metadata": {
            "tags": []
          },
          "execution_count": 36
        }
      ]
    },
    {
      "cell_type": "code",
      "metadata": {
        "id": "1k4u1SOy9AfC"
      },
      "source": [
        "#removing stop words\n",
        "def remove_stopwords(review_list):\n",
        "  stop = stopwords.words('english')\n",
        "  removed = []\n",
        "  for review in review_list:\n",
        "    removed.append(' '.join([word for word in review.split() if word not in stop]))\n",
        "  return removed"
      ],
      "execution_count": null,
      "outputs": []
    },
    {
      "cell_type": "code",
      "metadata": {
        "id": "NLu96DRN9GJL"
      },
      "source": [
        "df2['Sentence'] = remove_stopwords(df2['Sentence'])"
      ],
      "execution_count": null,
      "outputs": []
    },
    {
      "cell_type": "code",
      "metadata": {
        "id": "At1CRFKO9bpe"
      },
      "source": [
        "dataset = df2"
      ],
      "execution_count": null,
      "outputs": []
    },
    {
      "cell_type": "code",
      "metadata": {
        "colab": {
          "base_uri": "https://localhost:8080/"
        },
        "id": "MNBqWvn3-IKy",
        "outputId": "a1b905bb-05f9-4e08-8686-0538266a7bbf"
      },
      "source": [
        "dataset['Emotion'].value_counts()"
      ],
      "execution_count": null,
      "outputs": [
        {
          "output_type": "execute_result",
          "data": {
            "text/plain": [
              "joy         6761\n",
              "sadness     5797\n",
              "anger       2709\n",
              "fear        2373\n",
              "love        1641\n",
              "surprise     719\n",
              "Name: Emotion, dtype: int64"
            ]
          },
          "metadata": {
            "tags": []
          },
          "execution_count": 43
        }
      ]
    },
    {
      "cell_type": "code",
      "metadata": {
        "id": "t7aOTEJiKwI3"
      },
      "source": [
        "joy = dataset[dataset['Emotion'] == 'joy'][:1500]\n",
        "sadness = dataset[dataset['Emotion'] == 'sadness'][:1500]\n",
        "anger = dataset[dataset['Emotion'] == 'anger'][:1500]\n",
        "fear = dataset[dataset['Emotion'] == 'fear'][:1500]\n",
        "love = dataset[dataset['Emotion'] == 'love'][:1500]\n",
        "surprise = dataset[dataset['Emotion'] == 'surprise'][:1500]"
      ],
      "execution_count": null,
      "outputs": []
    },
    {
      "cell_type": "code",
      "metadata": {
        "colab": {
          "base_uri": "https://localhost:8080/"
        },
        "id": "oKsg2NRvNu64",
        "outputId": "1f9d7791-e572-4556-b28a-decb665da158"
      },
      "source": [
        "d = {'Sentence' : np.array(surprise)[:1500,0], 'Emotion' : np.array(surprise)[:1500,1]}\n",
        "surprise = pd.DataFrame(d)\n",
        "joy=joy.append(surprise, ignore_index = True)\n",
        "joy['Emotion'].value_counts()"
      ],
      "execution_count": null,
      "outputs": [
        {
          "output_type": "execute_result",
          "data": {
            "text/plain": [
              "love        1500\n",
              "anger       1500\n",
              "fear        1500\n",
              "sadness     1500\n",
              "joy         1500\n",
              "surprise    1438\n",
              "Name: Emotion, dtype: int64"
            ]
          },
          "metadata": {
            "tags": []
          },
          "execution_count": 58
        }
      ]
    },
    {
      "cell_type": "code",
      "metadata": {
        "id": "t9XRTgmoOaMS"
      },
      "source": [
        "cd /content/gdrive/MyDrive/Colab Notebooks/IETE text analysis\\ "
      ],
      "execution_count": null,
      "outputs": []
    },
    {
      "cell_type": "code",
      "metadata": {
        "id": "WfG1SzNAOSsy"
      },
      "source": [
        "dataset = joy\n",
        "dataset.to_csv('/content/gdrive/MyDrive/IETE text analysis /balanced_emotion_dataset.csv')"
      ],
      "execution_count": null,
      "outputs": []
    },
    {
      "cell_type": "code",
      "metadata": {
        "colab": {
          "base_uri": "https://localhost:8080/"
        },
        "id": "DVvuVSAGP88o",
        "outputId": "f9be5c72-c31b-4570-847e-11ed0a7410e1"
      },
      "source": [
        "dataset['Emotion'].value_counts()"
      ],
      "execution_count": null,
      "outputs": [
        {
          "output_type": "execute_result",
          "data": {
            "text/plain": [
              "love        1500\n",
              "anger       1500\n",
              "fear        1500\n",
              "sadness     1500\n",
              "joy         1500\n",
              "surprise    1438\n",
              "Name: Emotion, dtype: int64"
            ]
          },
          "metadata": {
            "tags": []
          },
          "execution_count": 61
        }
      ]
    },
    {
      "cell_type": "markdown",
      "metadata": {
        "id": "BKyf4Wp1nWo5"
      },
      "source": [
        "Data Sequencing and splitting"
      ]
    },
    {
      "cell_type": "code",
      "metadata": {
        "colab": {
          "base_uri": "https://localhost:8080/"
        },
        "id": "aOM4jx6L9jB0",
        "outputId": "e3280ede-6bcb-4cad-9756-aecb72ee8aa5"
      },
      "source": [
        "max_words = 5000\n",
        "data = dataset.Sentence\n",
        "tokenizer = Tokenizer(num_words=max_words)\n",
        "tokenizer.fit_on_texts(data)\n",
        "sequences = tokenizer.texts_to_sequences(data)\n",
        "sentences = pad_sequences(sequences)\n",
        "print(sentences.shape)"
      ],
      "execution_count": null,
      "outputs": [
        {
          "output_type": "stream",
          "text": [
            "(8219, 33)\n"
          ],
          "name": "stdout"
        }
      ]
    },
    {
      "cell_type": "markdown",
      "metadata": {
        "id": "9ugPJTvFnP3H"
      },
      "source": [
        "Label Encoding"
      ]
    },
    {
      "cell_type": "code",
      "metadata": {
        "id": "y2PvvL03CsyG"
      },
      "source": [
        "labels = np.array(dataset['Emotion'])\n",
        "y = []\n",
        "for i in range(len(labels)):\n",
        "    if labels[i] == 'joy':\n",
        "        y.append(0)\n",
        "    if labels[i] == 'sadness':\n",
        "        y.append(1)\n",
        "    if labels[i] == 'anger':\n",
        "        y.append(2)\n",
        "    if labels[i] == 'fear':\n",
        "        y.append(3)\n",
        "    if labels[i] == 'love':\n",
        "        y.append(4)\n",
        "    if labels[i] == 'surprise':\n",
        "        y.append(5)\n",
        "y = np.array(y)\n",
        "labels = tf.keras.utils.to_categorical(y, 6, dtype=\"float32\")"
      ],
      "execution_count": null,
      "outputs": []
    },
    {
      "cell_type": "code",
      "metadata": {
        "colab": {
          "base_uri": "https://localhost:8080/"
        },
        "id": "Jdt8UZJlT-5p",
        "outputId": "edd6aae0-fb6e-4e39-bf5d-50900596082d"
      },
      "source": [
        "labels.shape"
      ],
      "execution_count": null,
      "outputs": [
        {
          "output_type": "execute_result",
          "data": {
            "text/plain": [
              "(8219, 6)"
            ]
          },
          "metadata": {
            "tags": []
          },
          "execution_count": 99
        }
      ]
    },
    {
      "cell_type": "markdown",
      "metadata": {
        "id": "2llZb88lndzl"
      },
      "source": [
        "Splitting into train and test data"
      ]
    },
    {
      "cell_type": "code",
      "metadata": {
        "id": "DTCFQ80J_6uw"
      },
      "source": [
        "X_train, X_test, y_train, y_test = train_test_split(sentences,\n",
        "                                                    labels,\n",
        "                                                    test_size=0.15,\n",
        "                                                    random_state=42)"
      ],
      "execution_count": null,
      "outputs": []
    },
    {
      "cell_type": "code",
      "metadata": {
        "colab": {
          "base_uri": "https://localhost:8080/"
        },
        "id": "kPqVSUbhUKph",
        "outputId": "cb6654b1-00bc-4ba9-d07f-06a6e32428da"
      },
      "source": [
        "X_test[0]"
      ],
      "execution_count": null,
      "outputs": [
        {
          "output_type": "execute_result",
          "data": {
            "text/plain": [
              "array([   0,    0,    0,    0,    0,    0,    0,    0,    0,    0,    0,\n",
              "          0,    0,    0,    0,    0,    0,    0,    0,    0,    0,    0,\n",
              "          1,   97,  527,  516,  756,   16,   38,  982, 1019,  165,  171],\n",
              "      dtype=int32)"
            ]
          },
          "metadata": {
            "tags": []
          },
          "execution_count": 106
        }
      ]
    },
    {
      "cell_type": "code",
      "metadata": {
        "colab": {
          "base_uri": "https://localhost:8080/"
        },
        "id": "KqQ7QCCcDoOV",
        "outputId": "e9a4d3fc-339a-49a0-d7b9-0b071d1ebab5"
      },
      "source": [
        "print (len(X_train),len(X_test),len(y_train),len(y_test))"
      ],
      "execution_count": null,
      "outputs": [
        {
          "output_type": "stream",
          "text": [
            "6986 1233 6986 1233\n"
          ],
          "name": "stdout"
        }
      ]
    },
    {
      "cell_type": "markdown",
      "metadata": {
        "id": "gmsuUdzSnhum"
      },
      "source": [
        "Model building and testing\n",
        "(With single LSTM layer)"
      ]
    },
    {
      "cell_type": "code",
      "metadata": {
        "colab": {
          "base_uri": "https://localhost:8080/"
        },
        "id": "_lq_Zkv4Aggn",
        "outputId": "fa495fdb-2594-4dd4-9b73-c0e413128d89"
      },
      "source": [
        "model1 = Sequential()\n",
        "model1.add(layers.Embedding(max_words, 20)) #The embedding layer\n",
        "model1.add(layers.LSTM(15,dropout=0.5)) #Our LSTM layer\n",
        "model1.add(layers.Dense(6,activation='softmax'))\n",
        "\n",
        "\n",
        "model1.compile(optimizer='rmsprop',loss='categorical_crossentropy', metrics=['accuracy'])\n",
        "\n",
        "# checkpoint1 = ModelCheckpoint(\"best_model1.hdf5\", monitor='val_accuracy', verbose=1,save_best_only=True, mode='max', save_freq=1,save_weights_only=False)\n",
        "history = model1.fit(X_train, y_train, epochs=20,validation_data=(X_test, y_test)) #,callbacks=[checkpoint1])"
      ],
      "execution_count": null,
      "outputs": [
        {
          "output_type": "stream",
          "text": [
            "Epoch 1/20\n",
            "219/219 [==============================] - 3s 8ms/step - loss: 1.7728 - accuracy: 0.2059 - val_loss: 1.7515 - val_accuracy: 0.2563\n",
            "Epoch 2/20\n",
            "219/219 [==============================] - 1s 6ms/step - loss: 1.7208 - accuracy: 0.3466 - val_loss: 1.6436 - val_accuracy: 0.3114\n",
            "Epoch 3/20\n",
            "219/219 [==============================] - 1s 6ms/step - loss: 1.5298 - accuracy: 0.4534 - val_loss: 1.4727 - val_accuracy: 0.3496\n",
            "Epoch 4/20\n",
            "219/219 [==============================] - 1s 5ms/step - loss: 1.2246 - accuracy: 0.6039 - val_loss: 1.0901 - val_accuracy: 0.6821\n",
            "Epoch 5/20\n",
            "219/219 [==============================] - 1s 6ms/step - loss: 0.9452 - accuracy: 0.7237 - val_loss: 0.8404 - val_accuracy: 0.7470\n",
            "Epoch 6/20\n",
            "219/219 [==============================] - 1s 6ms/step - loss: 0.7327 - accuracy: 0.7891 - val_loss: 0.6667 - val_accuracy: 0.8224\n",
            "Epoch 7/20\n",
            "219/219 [==============================] - 1s 6ms/step - loss: 0.5662 - accuracy: 0.8427 - val_loss: 0.5978 - val_accuracy: 0.8102\n",
            "Epoch 8/20\n",
            "219/219 [==============================] - 1s 6ms/step - loss: 0.4794 - accuracy: 0.8653 - val_loss: 0.4916 - val_accuracy: 0.8459\n",
            "Epoch 9/20\n",
            "219/219 [==============================] - 1s 6ms/step - loss: 0.4013 - accuracy: 0.8833 - val_loss: 0.5541 - val_accuracy: 0.8054\n",
            "Epoch 10/20\n",
            "219/219 [==============================] - 1s 6ms/step - loss: 0.3550 - accuracy: 0.8977 - val_loss: 0.4901 - val_accuracy: 0.8491\n",
            "Epoch 11/20\n",
            "219/219 [==============================] - 1s 6ms/step - loss: 0.3192 - accuracy: 0.9043 - val_loss: 0.4405 - val_accuracy: 0.8654\n",
            "Epoch 12/20\n",
            "219/219 [==============================] - 1s 6ms/step - loss: 0.2830 - accuracy: 0.9083 - val_loss: 0.3908 - val_accuracy: 0.8743\n",
            "Epoch 13/20\n",
            "219/219 [==============================] - 1s 6ms/step - loss: 0.2684 - accuracy: 0.9130 - val_loss: 0.3950 - val_accuracy: 0.8751\n",
            "Epoch 14/20\n",
            "219/219 [==============================] - 1s 6ms/step - loss: 0.2473 - accuracy: 0.9203 - val_loss: 0.3791 - val_accuracy: 0.8710\n",
            "Epoch 15/20\n",
            "219/219 [==============================] - 1s 6ms/step - loss: 0.2370 - accuracy: 0.9257 - val_loss: 0.3776 - val_accuracy: 0.8759\n",
            "Epoch 16/20\n",
            "219/219 [==============================] - 1s 6ms/step - loss: 0.2145 - accuracy: 0.9307 - val_loss: 0.3707 - val_accuracy: 0.8783\n",
            "Epoch 17/20\n",
            "219/219 [==============================] - 1s 6ms/step - loss: 0.2047 - accuracy: 0.9361 - val_loss: 0.3659 - val_accuracy: 0.8824\n",
            "Epoch 18/20\n",
            "219/219 [==============================] - 1s 6ms/step - loss: 0.1895 - accuracy: 0.9338 - val_loss: 0.3768 - val_accuracy: 0.8767\n",
            "Epoch 19/20\n",
            "219/219 [==============================] - 1s 6ms/step - loss: 0.2004 - accuracy: 0.9364 - val_loss: 0.3692 - val_accuracy: 0.8816\n",
            "Epoch 20/20\n",
            "219/219 [==============================] - 1s 6ms/step - loss: 0.1778 - accuracy: 0.9398 - val_loss: 0.3708 - val_accuracy: 0.8816\n"
          ],
          "name": "stdout"
        }
      ]
    },
    {
      "cell_type": "markdown",
      "metadata": {
        "id": "kctuuSZMnxD1"
      },
      "source": [
        "Function for prediction"
      ]
    },
    {
      "cell_type": "code",
      "metadata": {
        "id": "rxmYimOEe9zW"
      },
      "source": [
        "\n",
        "def prediction(text):\n",
        "  emotion = ['joy','sadness','anger','fear','love','surprise']\n",
        "  # l = list(text)\n",
        "  sequences = tokenizer.texts_to_sequences([text])\n",
        "  test = pad_sequences(sequences)\n",
        "  return emotion[np.around(model1.predict(test), decimals=0).argmax(axis=1)[0]]"
      ],
      "execution_count": null,
      "outputs": []
    },
    {
      "cell_type": "code",
      "metadata": {
        "colab": {
          "base_uri": "https://localhost:8080/",
          "height": 35
        },
        "id": "o8CeMOc4hBPC",
        "outputId": "4abc9fb7-9637-4648-b06f-3bf8c03ecd30"
      },
      "source": [
        "prediction('i am feeling very depressed')"
      ],
      "execution_count": null,
      "outputs": [
        {
          "output_type": "execute_result",
          "data": {
            "application/vnd.google.colaboratory.intrinsic+json": {
              "type": "string"
            },
            "text/plain": [
              "'sadness'"
            ]
          },
          "metadata": {
            "tags": []
          },
          "execution_count": 146
        }
      ]
    },
    {
      "cell_type": "code",
      "metadata": {
        "colab": {
          "base_uri": "https://localhost:8080/",
          "height": 35
        },
        "id": "niU7EE4Yg8cQ",
        "outputId": "5b05a210-6b96-4f97-fecd-18bb89b538a3"
      },
      "source": [
        "prediction('feeling very happy today')"
      ],
      "execution_count": null,
      "outputs": [
        {
          "output_type": "execute_result",
          "data": {
            "application/vnd.google.colaboratory.intrinsic+json": {
              "type": "string"
            },
            "text/plain": [
              "'joy'"
            ]
          },
          "metadata": {
            "tags": []
          },
          "execution_count": 140
        }
      ]
    },
    {
      "cell_type": "code",
      "metadata": {
        "colab": {
          "base_uri": "https://localhost:8080/",
          "height": 35
        },
        "id": "eCgNMddZg6A6",
        "outputId": "1fab8213-ca40-48a5-d9bd-2173a8577c8c"
      },
      "source": [
        "prediction('i am so mad at you')"
      ],
      "execution_count": null,
      "outputs": [
        {
          "output_type": "execute_result",
          "data": {
            "application/vnd.google.colaboratory.intrinsic+json": {
              "type": "string"
            },
            "text/plain": [
              "'anger'"
            ]
          },
          "metadata": {
            "tags": []
          },
          "execution_count": 139
        }
      ]
    },
    {
      "cell_type": "code",
      "metadata": {
        "colab": {
          "base_uri": "https://localhost:8080/",
          "height": 35
        },
        "id": "3rtOjL7EfZqp",
        "outputId": "b2d462ec-7a7c-4b8b-aa5b-a6b0dead9d1b"
      },
      "source": [
        "prediction('i am so scared of you')"
      ],
      "execution_count": null,
      "outputs": [
        {
          "output_type": "execute_result",
          "data": {
            "application/vnd.google.colaboratory.intrinsic+json": {
              "type": "string"
            },
            "text/plain": [
              "'fear'"
            ]
          },
          "metadata": {
            "tags": []
          },
          "execution_count": 138
        }
      ]
    },
    {
      "cell_type": "code",
      "metadata": {
        "colab": {
          "base_uri": "https://localhost:8080/",
          "height": 35
        },
        "id": "0I8mQn3chQsA",
        "outputId": "9c66c6bd-9d27-4ad0-ea14-91e15f0a780b"
      },
      "source": [
        "prediction('i was stunned by his performance tonight')"
      ],
      "execution_count": null,
      "outputs": [
        {
          "output_type": "execute_result",
          "data": {
            "application/vnd.google.colaboratory.intrinsic+json": {
              "type": "string"
            },
            "text/plain": [
              "'surprise'"
            ]
          },
          "metadata": {
            "tags": []
          },
          "execution_count": 148
        }
      ]
    },
    {
      "cell_type": "code",
      "metadata": {
        "colab": {
          "base_uri": "https://localhost:8080/",
          "height": 35
        },
        "id": "Wpx6nl2Ohhai",
        "outputId": "cbea8409-7a47-4c7f-99d3-c465cb322d3f"
      },
      "source": [
        "prediction('i feel blessed to have a friend like you')"
      ],
      "execution_count": null,
      "outputs": [
        {
          "output_type": "execute_result",
          "data": {
            "application/vnd.google.colaboratory.intrinsic+json": {
              "type": "string"
            },
            "text/plain": [
              "'love'"
            ]
          },
          "metadata": {
            "tags": []
          },
          "execution_count": 149
        }
      ]
    },
    {
      "cell_type": "code",
      "metadata": {
        "id": "GQ2o6LMqdymP"
      },
      "source": [
        "new_model = tf.keras.models.load_model('/content/gdrive/MyDrive/IETE text analysis /emotion_analyser_english')\n",
        "emotion[np.around(new_model.predict(test), decimals=0).argmax(axis=1)[0]]"
      ],
      "execution_count": null,
      "outputs": []
    },
    {
      "cell_type": "code",
      "metadata": {
        "id": "WsUwh9thjlJQ"
      },
      "source": [
        ""
      ],
      "execution_count": null,
      "outputs": []
    }
  ]
}